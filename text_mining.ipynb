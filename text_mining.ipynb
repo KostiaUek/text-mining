{
 "cells": [
  {
   "cell_type": "markdown",
   "id": "032f15f0",
   "metadata": {},
   "source": [
    "### Import Packages"
   ]
  },
  {
   "cell_type": "code",
   "execution_count": null,
   "id": "039c666d",
   "metadata": {},
   "outputs": [],
   "source": [
    "import json\n",
    "import string\n",
    "from nltk.stem import PorterStemmer\n",
    "from nltk.tokenize import word_tokenize\n",
    "from nltk.corpus import PlaintextCorpusReader, stopwords"
   ]
  },
  {
   "cell_type": "markdown",
   "id": "aaa51885",
   "metadata": {},
   "source": [
    "### Create Document Corpus"
   ]
  },
  {
   "cell_type": "code",
   "execution_count": null,
   "id": "e5b96891",
   "metadata": {},
   "outputs": [],
   "source": [
    "corpus_dir = \"./Literature-original\"\n",
    "corpus = PlaintextCorpusReader(corpus_dir, \".*\\.txt\")\n",
    "file_names = corpus.fileids()\n",
    "file_names"
   ]
  },
  {
   "cell_type": "markdown",
   "id": "1d014dfa",
   "metadata": {},
   "source": [
    "### Corpus documents preprocessing"
   ]
  },
  {
   "cell_type": "code",
   "execution_count": null,
   "id": "283eca31",
   "metadata": {},
   "outputs": [],
   "source": [
    "documents = {}\n",
    "for file_name in file_names:\n",
    "    documents[file_name] = corpus.raw(file_name)\n",
    "print(json.dumps(documents, indent=4, ensure_ascii=False))"
   ]
  },
  {
   "cell_type": "code",
   "execution_count": null,
   "id": "02f782c4",
   "metadata": {},
   "outputs": [],
   "source": [
    "lengths_pre = {}\n",
    "for file_name in documents:\n",
    "    lengths_pre[file_name] = len(word_tokenize(documents[file_name]))\n",
    "print(json.dumps(lengths_pre, indent=4, ensure_ascii=False))"
   ]
  },
  {
   "cell_type": "code",
   "execution_count": null,
   "id": "ef33e4a7",
   "metadata": {},
   "outputs": [],
   "source": [
    "ps = PorterStemmer()"
   ]
  },
  {
   "cell_type": "code",
   "execution_count": null,
   "id": "074ded59",
   "metadata": {},
   "outputs": [],
   "source": [
    "for file_name in documents:\n",
    "    documents[file_name] = documents[file_name].lower()\n",
    "    documents[file_name] = \"\".join([char for char in documents[file_name] if char not in string.punctuation])\n",
    "    documents[file_name] = \"\".join([char for char in documents[file_name] if not char.isdigit()])\n",
    "    documents[file_name] = \" \".join([ps.stem(word) for word in word_tokenize(documents[file_name])])\n",
    "    documents[file_name] = \" \".join([word for word in word_tokenize(documents[file_name]) if word not in list(stopwords.words('english'))])\n",
    "print(json.dumps(documents, indent=4, ensure_ascii=False))\n"
   ]
  },
  {
   "cell_type": "code",
   "execution_count": null,
   "id": "5bacd6c1",
   "metadata": {},
   "outputs": [],
   "source": [
    "lengths_post = {}\n",
    "for file_name in documents:\n",
    "    lengths_post[file_name] = len(word_tokenize(documents[file_name]))\n",
    "print(json.dumps(lengths_post, indent=4, ensure_ascii=False))"
   ]
  }
 ],
 "metadata": {
  "kernelspec": {
   "display_name": ".venv",
   "language": "python",
   "name": "python3"
  },
  "language_info": {
   "codemirror_mode": {
    "name": "ipython",
    "version": 3
   },
   "file_extension": ".py",
   "mimetype": "text/x-python",
   "name": "python",
   "nbconvert_exporter": "python",
   "pygments_lexer": "ipython3",
   "version": "3.11.4"
  }
 },
 "nbformat": 4,
 "nbformat_minor": 5
}
